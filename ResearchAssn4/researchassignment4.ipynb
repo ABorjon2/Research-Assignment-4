{
 "cells": [
  {
   "cell_type": "markdown",
   "metadata": {
    "tags": []
   },
   "source": [
    "# Research assignment 4\n",
    "\n",
    "\n",
    "Ashley Borjon\n",
    "\n",
    "Impact of race on medicalization or criminalization of ADHD\n",
    "\n",
    "March 11, 2024"
   ]
  },
  {
   "cell_type": "code",
   "execution_count": 1,
   "metadata": {
    "tags": []
   },
   "outputs": [
    {
     "data": {
      "text/html": [
       "<style>div.jp-Notebook .datagrid-container {min-height: 448px; }</style>"
      ],
      "text/plain": [
       "<IPython.core.display.HTML object>"
      ]
     },
     "metadata": {},
     "output_type": "display_data"
    },
    {
     "name": "stdout",
     "output_type": "stream",
     "text": [
      "/Users/aborjon/Desktop/stats2/soc211\n"
     ]
    }
   ],
   "source": [
    "cd \"/Users/aborjon/Desktop/stats2/soc211\""
   ]
  },
  {
   "cell_type": "code",
   "execution_count": 2,
   "metadata": {
    "tags": []
   },
   "outputs": [
    {
     "name": "stdout",
     "output_type": "stream",
     "text": [
      "(-set more- irrelevant in this version of Stata)\n"
     ]
    }
   ],
   "source": [
    "set more off"
   ]
  },
  {
   "cell_type": "code",
   "execution_count": 3,
   "metadata": {},
   "outputs": [],
   "source": [
    "eststo clear"
   ]
  },
  {
   "cell_type": "code",
   "execution_count": 4,
   "metadata": {
    "tags": []
   },
   "outputs": [
    {
     "name": "stdout",
     "output_type": "stream",
     "text": [
      "-------------------------------------------------------------------------------\n",
      "      name:  <unnamed>\n",
      "       log:  /Users/aborjon/Desktop/stats2/soc211/Research Assignment 4.log\n",
      "  log type:  text\n",
      " opened on:  13 Mar 2024, 09:18:58\n"
     ]
    }
   ],
   "source": [
    "log using \"Research Assignment 4.log\", replace"
   ]
  },
  {
   "cell_type": "code",
   "execution_count": 5,
   "metadata": {
    "tags": []
   },
   "outputs": [],
   "source": [
    "use sc_race_r ace11 sc_age_years sc_racer k2q31a k2q31d k7q04r_r addtreat k2q31b k7q02r_r using \"/Users/aborjon/Desktop/stats2/soc211/ProblemSet3/nsch_2022_topical_Stata/nsch_2022e_topical.dta\", clear"
   ]
  },
  {
   "cell_type": "code",
   "execution_count": 6,
   "metadata": {
    "tags": []
   },
   "outputs": [
    {
     "name": "stdout",
     "output_type": "stream",
     "text": [
      "\n",
      "Variable      Storage   Display    Value\n",
      "    name         type    format    label      Variable label\n",
      "-------------------------------------------------------------------------------\n",
      "ace11           byte    %10.0g                ACE11\n",
      "sc_age_years    byte    %8.0g                 SC_AGE_YEARS\n",
      "sc_racer        byte    %8.0g                 SC_RACER\n",
      "k2q31a          byte    %10.0g                K2Q31A\n",
      "k2q31d          byte    %10.0g                K2Q31D\n",
      "k7q04r_r        byte    %10.0g                K7Q04R_R\n",
      "sc_race_r       byte    %8.0g                 SC_RACE_R\n",
      "addtreat        byte    %10.0g                ADDTREAT\n",
      "k2q31b          byte    %10.0g                K2Q31B\n",
      "k7q02r_r        byte    %10.0g                K7Q02R_R\n"
     ]
    }
   ],
   "source": [
    "describe ace11 sc_age_years sc_racer k2q31a k2q31d k7q04r_r sc_race_r addtreat k2q31b k7q02r_r"
   ]
  },
  {
   "cell_type": "code",
   "execution_count": 7,
   "metadata": {
    "tags": []
   },
   "outputs": [
    {
     "name": "stdout",
     "output_type": "stream",
     "text": [
      "\n",
      "-------------------------------------------------------------------------------\n",
      "ace11                                                                     ACE11\n",
      "-------------------------------------------------------------------------------\n",
      "\n",
      "                  Type: Numeric (byte)\n",
      "\n",
      "                 Range: [1,2]                         Units: 1\n",
      "         Unique values: 2                         Missing .: 0/54,103\n",
      "       Unique mv codes: 1                        Missing .*: 2,158/54,103\n",
      "\n",
      "            Tabulation: Freq.  Value\n",
      "                        1,638  1\n",
      "                       50,307  2\n",
      "                        2,158  .m\n",
      "\n",
      "-------------------------------------------------------------------------------\n",
      "sc_age_years                                                       SC_AGE_YEARS\n",
      "-------------------------------------------------------------------------------\n",
      "\n",
      "                  Type: Numeric (byte)\n",
      "\n",
      "                 Range: [0,17]                        Units: 1\n",
      "         Unique values: 18                        Missing .: 0/54,103\n",
      "\n",
      "                  Mean:  8.6049\n",
      "             Std. dev.: 5.30783\n",
      "\n",
      "           Percentiles:     10%       25%       50%       75%       90%\n",
      "                              2         4         8        14        16\n",
      "\n",
      "-------------------------------------------------------------------------------\n",
      "sc_racer                                                               SC_RACER\n",
      "-------------------------------------------------------------------------------\n",
      "\n",
      "                  Type: Numeric (byte)\n",
      "\n",
      "                 Range: [1,3]                         Units: 1\n",
      "         Unique values: 3                         Missing .: 0/54,103\n",
      "\n",
      "            Tabulation: Freq.  Value\n",
      "                       41,337  1\n",
      "                        3,710  2\n",
      "                        9,056  3\n",
      "\n",
      "-------------------------------------------------------------------------------\n",
      "k2q31a                                                                   K2Q31A\n",
      "-------------------------------------------------------------------------------\n",
      "\n",
      "                  Type: Numeric (byte)\n",
      "\n",
      "                 Range: [1,2]                         Units: 1\n",
      "         Unique values: 2                         Missing .: 0/54,103\n",
      "       Unique mv codes: 1                        Missing .*: 364/54,103\n",
      "\n",
      "            Tabulation: Freq.  Value\n",
      "                        5,519  1\n",
      "                       48,220  2\n",
      "                          364  .m\n",
      "\n",
      "-------------------------------------------------------------------------------\n",
      "k2q31d                                                                   K2Q31D\n",
      "-------------------------------------------------------------------------------\n",
      "\n",
      "                  Type: Numeric (byte)\n",
      "\n",
      "                 Range: [1,2]                         Units: 1\n",
      "         Unique values: 2                         Missing .: 0/54,103\n",
      "       Unique mv codes: 2                        Missing .*: 48,546/54,103\n",
      "\n",
      "            Tabulation: Freq.  Value\n",
      "                        2,936  1\n",
      "                        2,621  2\n",
      "                       48,220  .l\n",
      "                          326  .m\n",
      "\n",
      "-------------------------------------------------------------------------------\n",
      "k7q04r_r                                                               K7Q04R_R\n",
      "-------------------------------------------------------------------------------\n",
      "\n",
      "                  Type: Numeric (byte)\n",
      "\n",
      "                 Range: [1,3]                         Units: 1\n",
      "         Unique values: 3                         Missing .: 0/54,103\n",
      "       Unique mv codes: 2                        Missing .*: 20,227/54,103\n",
      "\n",
      "            Tabulation: Freq.  Value\n",
      "                       25,908  1\n",
      "                        3,642  2\n",
      "                        4,326  3\n",
      "                          486  .m\n",
      "                       19,741  .n\n",
      "\n",
      "-------------------------------------------------------------------------------\n",
      "sc_race_r                                                             SC_RACE_R\n",
      "-------------------------------------------------------------------------------\n",
      "\n",
      "                  Type: Numeric (byte)\n",
      "\n",
      "                 Range: [1,7]                         Units: 1\n",
      "         Unique values: 6                         Missing .: 0/54,103\n",
      "\n",
      "            Tabulation: Freq.  Value\n",
      "                       41,337  1\n",
      "                        3,710  2\n",
      "                          532  3\n",
      "                        3,450  4\n",
      "                          347  5\n",
      "                        4,727  7\n",
      "\n",
      "-------------------------------------------------------------------------------\n",
      "addtreat                                                               ADDTREAT\n",
      "-------------------------------------------------------------------------------\n",
      "\n",
      "                  Type: Numeric (byte)\n",
      "\n",
      "                 Range: [1,2]                         Units: 1\n",
      "         Unique values: 2                         Missing .: 0/54,103\n",
      "       Unique mv codes: 2                        Missing .*: 48,525/54,103\n",
      "\n",
      "            Tabulation: Freq.  Value\n",
      "                        2,470  1\n",
      "                        3,108  2\n",
      "                       48,220  .l\n",
      "                          305  .m\n",
      "\n",
      "-------------------------------------------------------------------------------\n",
      "k2q31b                                                                   K2Q31B\n",
      "-------------------------------------------------------------------------------\n",
      "\n",
      "                  Type: Numeric (byte)\n",
      "\n",
      "                 Range: [1,2]                         Units: 1\n",
      "         Unique values: 2                         Missing .: 0/54,103\n",
      "       Unique mv codes: 2                        Missing .*: 48,652/54,103\n",
      "\n",
      "            Tabulation: Freq.  Value\n",
      "                        5,119  1\n",
      "                          332  2\n",
      "                       48,220  .l\n",
      "                          432  .m\n",
      "\n",
      "-------------------------------------------------------------------------------\n",
      "k7q02r_r                                                               K7Q02R_R\n",
      "-------------------------------------------------------------------------------\n",
      "\n",
      "                  Type: Numeric (byte)\n",
      "\n",
      "                 Range: [1,6]                         Units: 1\n",
      "         Unique values: 6                         Missing .: 0/54,103\n",
      "       Unique mv codes: 2                        Missing .*: 20,188/54,103\n",
      "\n",
      "            Tabulation: Freq.  Value\n",
      "                        8,583  1\n",
      "                       12,166  2\n",
      "                        6,453  3\n",
      "                        3,736  4\n",
      "                        2,768  5\n",
      "                          209  6\n",
      "                          447  .m\n",
      "                       19,741  .n\n"
     ]
    }
   ],
   "source": [
    "codebook ace11 sc_age_years sc_racer k2q31a k2q31d k7q04r_r sc_race_r addtreat k2q31b k7q02r_r"
   ]
  },
  {
   "cell_type": "code",
   "execution_count": 8,
   "metadata": {
    "tags": []
   },
   "outputs": [],
   "source": [
    "qui label var sc_race_r\"Child's Race\" \n",
    "qui label var ace11\"Mistr. for Diagnosis\"\n",
    "qui label var sc_age_years\"Child's Age\"\n",
    "qui label var k2q31d\"Taking ADHD Meds\"\n",
    "qui label var k7q04r_r\"Times School Contacted w/ Probs\"\n",
    "qui label var k2q31a\"Diagnosed w/ ADHD\"\n",
    "qui label var addtreat\"Behavioral Treatment\"\n",
    "qui label var k2q31b\"Currently have ADHD/ADD\"\n",
    "qui label var k7q02r_r\"Days Child Missed School\""
   ]
  },
  {
   "cell_type": "code",
   "execution_count": 9,
   "metadata": {
    "tags": []
   },
   "outputs": [
    {
     "name": "stdout",
     "output_type": "stream",
     "text": [
      "(20,227 missing values generated)\n"
     ]
    }
   ],
   "source": [
    "gen school_contact=k7q04r_r\n",
    "\n",
    "label var school_contact \"Times School Contacted\"\n",
    "label define school_contact 1\"None\" 2\"1 time\" 3\"2 or more times\" \n",
    "label values school_contact school_contact"
   ]
  },
  {
   "cell_type": "code",
   "execution_count": 10,
   "metadata": {
    "tags": []
   },
   "outputs": [
    {
     "name": "stdout",
     "output_type": "stream",
     "text": [
      "(486 real changes made, 486 to missing)\n",
      "(19,741 real changes made, 19,741 to missing)\n",
      "\n",
      "-------------------------------------------------------------------------------\n",
      "school_contact                                           Times School Contacted\n",
      "-------------------------------------------------------------------------------\n",
      "\n",
      "                  Type: Numeric (float)\n",
      "                 Label: school_contact\n",
      "\n",
      "                 Range: [1,3]                         Units: 1\n",
      "         Unique values: 3                         Missing .: 20,227/54,103\n",
      "\n",
      "            Tabulation: Freq.   Numeric  Label\n",
      "                       25,908         1  None\n",
      "                        3,642         2  1 time\n",
      "                        4,326         3  2 or more times\n",
      "                       20,227         .  \n"
     ]
    }
   ],
   "source": [
    "replace school_contact=. if k7q04r_r==(.m)\n",
    "replace school_contact=. if k7q04r_r==(.n)\n",
    "\n",
    "codebook school_contact"
   ]
  },
  {
   "cell_type": "code",
   "execution_count": 11,
   "metadata": {
    "tags": []
   },
   "outputs": [
    {
     "name": "stdout",
     "output_type": "stream",
     "text": [
      "\n",
      "-------------------------------------------------------------------------------\n",
      "child_race                                                        Race of Child\n",
      "-------------------------------------------------------------------------------\n",
      "\n",
      "                  Type: Numeric (float)\n",
      "                 Label: child_race\n",
      "\n",
      "                 Range: [1,7]                         Units: 1\n",
      "         Unique values: 6                         Missing .: 0/54,103\n",
      "\n",
      "            Tabulation: Freq.   Numeric  Label\n",
      "                       41,337         1  White\n",
      "                        3,710         2  Black/AA\n",
      "                          532         3  A. Indian/Alaska Nat.\n",
      "                        3,450         4  Asian\n",
      "                          347         5  Hawaiian/Pac. Islander\n",
      "                        4,727         7  2 or more races\n"
     ]
    }
   ],
   "source": [
    "gen child_race=sc_race_r\n",
    "\n",
    "label var child_race \"Race of Child\"\n",
    "label define child_race 1\"White\" 2\"Black/AA\" 3\"A. Indian/Alaska Nat.\" 4\"Asian\" 5\"Hawaiian/Pac. Islander\" 7\"2 or more races\"\n",
    "label values child_race child_race\n",
    "\n",
    "codebook child_race"
   ]
  },
  {
   "cell_type": "code",
   "execution_count": 12,
   "metadata": {
    "tags": []
   },
   "outputs": [
    {
     "name": "stdout",
     "output_type": "stream",
     "text": [
      "(48,652 missing values generated)\n"
     ]
    }
   ],
   "source": [
    "gen child_adhd=k2q31b\n",
    "\n",
    "label var child_adhd \"Currently have ADD/ADHD\"\n",
    "label define child_adhd 1\"Yes\" 2\"No\" \n",
    "label values child_adhd child_adhd"
   ]
  },
  {
   "cell_type": "code",
   "execution_count": 13,
   "metadata": {
    "tags": []
   },
   "outputs": [
    {
     "name": "stdout",
     "output_type": "stream",
     "text": [
      "(432 real changes made, 432 to missing)\n",
      "(48,220 real changes made, 48,220 to missing)\n",
      "\n",
      "-------------------------------------------------------------------------------\n",
      "child_adhd                                              Currently have ADD/ADHD\n",
      "-------------------------------------------------------------------------------\n",
      "\n",
      "                  Type: Numeric (float)\n",
      "                 Label: child_adhd\n",
      "\n",
      "                 Range: [1,2]                         Units: 1\n",
      "         Unique values: 2                         Missing .: 48,652/54,103\n",
      "\n",
      "            Tabulation: Freq.   Numeric  Label\n",
      "                        5,119         1  Yes\n",
      "                          332         2  No\n",
      "                       48,652         .  \n"
     ]
    }
   ],
   "source": [
    "replace child_adhd=. if k2q31b==(.m)\n",
    "replace child_adhd=. if k2q31b==(.l)\n",
    "\n",
    "codebook child_adhd"
   ]
  },
  {
   "cell_type": "code",
   "execution_count": 14,
   "metadata": {
    "tags": []
   },
   "outputs": [
    {
     "name": "stdout",
     "output_type": "stream",
     "text": [
      "\n",
      "                |    Currently have\n",
      "   Times School |       ADD/ADHD\n",
      "      Contacted |       Yes         No |     Total\n",
      "----------------+----------------------+----------\n",
      "           None |     2,316        198 |     2,514 \n",
      "         1 time |       731         55 |       786 \n",
      "2 or more times |     1,760         65 |     1,825 \n",
      "----------------+----------------------+----------\n",
      "          Total |     4,807        318 |     5,125 \n"
     ]
    }
   ],
   "source": [
    "tab school_contact child_adhd"
   ]
  },
  {
   "cell_type": "code",
   "execution_count": 15,
   "metadata": {
    "tags": []
   },
   "outputs": [
    {
     "name": "stdout",
     "output_type": "stream",
     "text": [
      "(48,546 missing values generated)\n",
      "(326 real changes made, 326 to missing)\n",
      "(48,220 real changes made, 48,220 to missing)\n",
      "\n",
      "-------------------------------------------------------------------------------\n",
      "adhd_meds                                            Currently taking ADHD Meds\n",
      "-------------------------------------------------------------------------------\n",
      "\n",
      "                  Type: Numeric (float)\n",
      "                 Label: adhd_meds\n",
      "\n",
      "                 Range: [1,2]                         Units: 1\n",
      "         Unique values: 2                         Missing .: 48,546/54,103\n",
      "\n",
      "            Tabulation: Freq.   Numeric  Label\n",
      "                        2,936         1  yes\n",
      "                        2,621         2  no\n",
      "                       48,546         .  \n"
     ]
    }
   ],
   "source": [
    "gen adhd_meds=k2q31d\n",
    "\n",
    "label var adhd_meds \"Currently taking ADHD Meds\"\n",
    "label define adhd_meds 1\"yes\" 2\"no\" \n",
    "label values adhd_meds adhd_meds\n",
    "replace adhd_meds=. if k2q31d==(.m)\n",
    "replace adhd_meds=. if k2q31d==(.l) \n",
    "\n",
    "codebook adhd_meds"
   ]
  },
  {
   "cell_type": "code",
   "execution_count": 16,
   "metadata": {
    "tags": []
   },
   "outputs": [
    {
     "name": "stdout",
     "output_type": "stream",
     "text": [
      "\n",
      "                | Currently taking ADHD\n",
      "   Times School |         Meds\n",
      "      Contacted |       yes         no |     Total\n",
      "----------------+----------------------+----------\n",
      "           None |     1,355      1,227 |     2,582 \n",
      "         1 time |       440        354 |       794 \n",
      "2 or more times |     1,052        778 |     1,830 \n",
      "----------------+----------------------+----------\n",
      "          Total |     2,847      2,359 |     5,206 \n"
     ]
    }
   ],
   "source": [
    "tab school_contact adhd_meds"
   ]
  },
  {
   "cell_type": "code",
   "execution_count": 17,
   "metadata": {
    "tags": []
   },
   "outputs": [
    {
     "name": "stdout",
     "output_type": "stream",
     "text": [
      "(20,188 missing values generated)\n",
      "\n",
      "-------------------------------------------------------------------------------\n",
      "missed_days                                            Days Child Missed School\n",
      "-------------------------------------------------------------------------------\n",
      "\n",
      "                  Type: Numeric (float)\n",
      "                 Label: missed_days\n",
      "\n",
      "                 Range: [1,6]                         Units: 1\n",
      "         Unique values: 6                         Missing .: 0/54,103\n",
      "       Unique mv codes: 2                        Missing .*: 20,188/54,103\n",
      "\n",
      "            Tabulation: Freq.   Numeric  Label\n",
      "                        8,583         1  No Missed Days\n",
      "                       12,166         2  1-3 Days\n",
      "                        6,453         3  4-6 Days\n",
      "                        3,736         4  7-10 Days\n",
      "                        2,768         5  11 or More Days\n",
      "                          209         6  Child not Enrolled\n",
      "                          447        .m  \n",
      "                       19,741        .n  \n"
     ]
    }
   ],
   "source": [
    "gen missed_days=k7q02r_r\n",
    "\n",
    "label var missed_days \"Days Child Missed School\"\n",
    "label define missed_days 1\"No Missed Days\" 2\"1-3 Days\" 3\"4-6 Days\" ///\n",
    "4\"7-10 Days\" 5\"11 or More Days\" 6\"Child not Enrolled\"\n",
    "label values missed_days missed_days\n",
    "\n",
    "codebook missed_days"
   ]
  },
  {
   "cell_type": "code",
   "execution_count": 18,
   "metadata": {
    "tags": []
   },
   "outputs": [
    {
     "name": "stdout",
     "output_type": "stream",
     "text": [
      "(54,103 missing values generated)\n",
      "(8,583 real changes made)\n",
      "(12,166 real changes made)\n",
      "(6,453 real changes made)\n",
      "(3,736 real changes made)\n",
      "(2,768 real changes made)\n"
     ]
    }
   ],
   "source": [
    "gen days_missed=.\n",
    "replace days_missed=0 if missed_days==1\n",
    "replace days_missed=2 if missed_days==2\n",
    "replace days_missed=5 if missed_days==3\n",
    "replace days_missed=8.5 if missed_days==4\n",
    "replace days_missed=11 if missed_days==5"
   ]
  },
  {
   "cell_type": "code",
   "execution_count": 19,
   "metadata": {
    "tags": []
   },
   "outputs": [
    {
     "name": "stdout",
     "output_type": "stream",
     "text": [
      "(54,103 missing values generated)\n",
      "(25,908 real changes made)\n",
      "(3,642 real changes made)\n",
      "(4,326 real changes made)\n"
     ]
    }
   ],
   "source": [
    "gen contact=.\n",
    "replace contact=0 if school_contact==1\n",
    "replace contact=1 if school_contact==2\n",
    "replace contact=2 if school_contact==3"
   ]
  },
  {
   "cell_type": "code",
   "execution_count": 20,
   "metadata": {
    "tags": []
   },
   "outputs": [
    {
     "name": "stdout",
     "output_type": "stream",
     "text": [
      "\n",
      "Child's Age |      Freq.     Percent        Cum.\n",
      "------------+-----------------------------------\n",
      "          0 |      1,930        3.57        3.57\n",
      "          1 |      2,514        4.65        8.21\n",
      "          2 |      4,176        7.72       15.93\n",
      "          3 |      3,766        6.96       22.89\n",
      "          4 |      3,618        6.69       29.58\n",
      "          5 |      3,737        6.91       36.49\n",
      "          6 |      2,669        4.93       41.42\n",
      "          7 |      2,435        4.50       45.92\n",
      "          8 |      2,559        4.73       50.65\n",
      "          9 |      2,526        4.67       55.32\n",
      "         10 |      2,600        4.81       60.13\n",
      "         11 |      2,545        4.70       64.83\n",
      "         12 |      2,625        4.85       69.68\n",
      "         13 |      2,787        5.15       74.83\n",
      "         14 |      3,011        5.57       80.40\n",
      "         15 |      3,341        6.18       86.57\n",
      "         16 |      3,518        6.50       93.08\n",
      "         17 |      3,746        6.92      100.00\n",
      "------------+-----------------------------------\n",
      "      Total |     54,103      100.00\n"
     ]
    }
   ],
   "source": [
    "tab sc_age_years"
   ]
  },
  {
   "cell_type": "code",
   "execution_count": 21,
   "metadata": {
    "tags": []
   },
   "outputs": [
    {
     "name": "stdout",
     "output_type": "stream",
     "text": [
      "(54,103 missing values generated)\n",
      "(1,930 real changes made)\n",
      "(3,737 real changes made)\n",
      "(2,545 real changes made)\n"
     ]
    }
   ],
   "source": [
    "gen child_age=.\n",
    "replace child_age=1 if sc_age_years==0 & sc_age_years <=4\n",
    "replace child_age=2 if sc_age_years==5 & sc_age_years <=10\n",
    "replace child_age=3 if sc_age_years==11 & sc_age_years <=17"
   ]
  },
  {
   "cell_type": "code",
   "execution_count": 22,
   "metadata": {
    "tags": []
   },
   "outputs": [],
   "source": [
    "label variable child_age \"Age of Child\""
   ]
  },
  {
   "cell_type": "code",
   "execution_count": 23,
   "metadata": {
    "tags": []
   },
   "outputs": [],
   "source": [
    "label define child_age 1 \"less than school age\" 2 \"early school years\" 3 \"older school kid\"\n",
    "label values child_age child_age"
   ]
  },
  {
   "cell_type": "code",
   "execution_count": 24,
   "metadata": {
    "tags": []
   },
   "outputs": [
    {
     "name": "stdout",
     "output_type": "stream",
     "text": [
      "\n",
      "                     |           Child's Age\n",
      "        Age of Child |         0          5         11 |     Total\n",
      "---------------------+---------------------------------+----------\n",
      "less than school age |     1,930          0          0 |     1,930 \n",
      "  early school years |         0      3,737          0 |     3,737 \n",
      "    older school kid |         0          0      2,545 |     2,545 \n",
      "---------------------+---------------------------------+----------\n",
      "               Total |     1,930      3,737      2,545 |     8,212 \n"
     ]
    }
   ],
   "source": [
    "tab child_age sc_age_years"
   ]
  },
  {
   "cell_type": "code",
   "execution_count": 25,
   "metadata": {
    "tags": []
   },
   "outputs": [
    {
     "name": "stdout",
     "output_type": "stream",
     "text": [
      "(54,103 missing values generated)\n",
      "(1,638 real changes made)\n",
      "(50,307 real changes made)\n"
     ]
    }
   ],
   "source": [
    "gen mistreat=.\n",
    "replace mistreat=1 if ace11==1\n",
    "replace mistreat=0 if ace11==2\n",
    "\n",
    "label var mistreat \"Mistreatment due to Diagnosis\"\n",
    "label define mistreat 1 \"Has been mistreated\" \n"
   ]
  },
  {
   "cell_type": "code",
   "execution_count": 26,
   "metadata": {
    "tags": []
   },
   "outputs": [
    {
     "name": "stdout",
     "output_type": "stream",
     "text": [
      "\n",
      "             | mistreat adhd_m~s child~ce child~ge\n",
      "-------------+------------------------------------\n",
      "    mistreat |   1.0000 \n",
      "   adhd_meds |  -0.0472   1.0000 \n",
      "  child_race |   0.0080   0.0606   1.0000 \n",
      "   child_age |   0.1118  -0.2264  -0.0133   1.0000 \n"
     ]
    }
   ],
   "source": [
    "pwcorr mistreat adhd_meds child_race child_age"
   ]
  },
  {
   "cell_type": "code",
   "execution_count": 27,
   "metadata": {
    "tags": []
   },
   "outputs": [
    {
     "name": "stdout",
     "output_type": "stream",
     "text": [
      "\n",
      "Mistreatme |\n",
      " nt due to | Mistr. for Diagnosis\n",
      " Diagnosis |         1          2 |     Total\n",
      "-----------+----------------------+----------\n",
      "         0 |         0     50,307 |    50,307 \n",
      "         1 |     1,638          0 |     1,638 \n",
      "-----------+----------------------+----------\n",
      "     Total |     1,638     50,307 |    51,945 \n"
     ]
    }
   ],
   "source": [
    "tab mistreat ace11"
   ]
  },
  {
   "cell_type": "markdown",
   "metadata": {},
   "source": [
    "## 1. Develop hypotheses about interactions between your independent variables [1 pt]\n",
    "\n",
    "You can use the GSS data, Student aid data, or your own data"
   ]
  },
  {
   "cell_type": "markdown",
   "metadata": {},
   "source": [
    "    A. Write at least one hypothesis involving one of the two following types of interactions\n",
    "        1) nominal * nominal\n",
    "        2) nominal * interval-ratio\n",
    "        \n",
    "    B. State the predicted direction of association between your dependent variable and:\n",
    "        1) each of the 2 independent variables by themselves\n",
    "        2) the interaction of the 2 indendent variables\n",
    "        3) you can predict that there is no association\n",
    "        \n",
    "    C. Write a couple sentences about the theoretical reasons (prior knowledge / research) for each of your predictions"
   ]
  },
  {
   "cell_type": "markdown",
   "metadata": {},
   "source": [
    "H1: As children with ADHD get older, they are more likely to experience mistreatment at school due to their diagnosis and take ADHD medication. \n",
    "\n",
    "DV: Mistreatment\n",
    "IV: Child's Age and If taking ADHD medication\n",
    "\n",
    "As the child gets older, they are more likely to take ADHD medication. As a child gets older, they are more likely to experience mistreatment at school due to their diagnosis. \n",
    "\n",
    "I think that children are more likely to experience mistreatment at school due to diagnosis as they get older because as children age, their behavior becomes more criminalized (for those with ADHD). Students who have ADHD experience stigmas related to their diagnosis. According to Daley and Rapport-Schlichtmann (2014), stigmatization experiences play a crucial role in the “developmental and academic experiences of individuals who perceive their group memberships to be the reason for stereotyping and prejudice.” (2014) It is this stigma that can bring differing experiences for students with the diagnosis. The literature supports that there are stigmas, so I want to look at when the consequences of those stigmas begin. \n"
   ]
  },
  {
   "cell_type": "markdown",
   "metadata": {},
   "source": [
    "## 2. Test your hypotheses [3 pts]\n",
    "\n",
    "    A. For each hypothesized interactive relationship: use regression with the appropriate interaction syntax to estimate 1 model with uninteracted variables and 1 model with interacted variables. Use --esttab to output a model with the 2 tables\n",
    "    \n",
    "    B. Use margins and marginsplot with the appropriate syntax to visually represent your regression adjusted estimates for given nominal categories or at given interval-ratio values"
   ]
  },
  {
   "cell_type": "code",
   "execution_count": 28,
   "metadata": {
    "tags": []
   },
   "outputs": [
    {
     "name": "stdout",
     "output_type": "stream",
     "text": [
      "note: 5.child_race#1b.adhd_meds identifies no observations in the sample.\n",
      "\n",
      "      Source |       SS           df       MS      Number of obs   =       566\n",
      "-------------+----------------------------------   F(12, 553)      =      2.61\n",
      "       Model |  3.52614274        12  .293845229   Prob > F        =    0.0022\n",
      "    Residual |  62.2689103       553  .112602008   R-squared       =    0.0536\n",
      "-------------+----------------------------------   Adj R-squared   =    0.0331\n",
      "       Total |   65.795053       565  .116451421   Root MSE        =    .33556\n",
      "\n",
      "------------------------------------------------------------------------------\n",
      "    mistreat | Coefficient  Std. err.      t    P>|t|     [95% conf. interval]\n",
      "-------------+----------------------------------------------------------------\n",
      "   child_age |\n",
      "early sch..  |  -.1901632   .1735783    -1.10   0.274    -.5311167    .1507903\n",
      "older sch..  |  -.0872448   .1730224    -0.50   0.614    -.4271063    .2526166\n",
      "             |\n",
      "  child_race#|\n",
      "   adhd_meds |\n",
      "   White#no  |  -.0392141   .0324491    -1.21   0.227    -.1029526    .0245244\n",
      "   Black/AA #|\n",
      "        yes  |   .0809641   .0785569     1.03   0.303    -.0733424    .2352706\n",
      "Black/AA#no  |   .1062829   .0851835     1.25   0.213    -.0610398    .2736056\n",
      "A. Indian.. #|\n",
      "        yes  |  -.1258972   .1950509    -0.65   0.519    -.5090284     .257234\n",
      "A. Indian.. #|\n",
      "         no  |  -.1087441    .169573    -0.64   0.522    -.4418301    .2243419\n",
      "  Asian#yes  |   .3569498   .1387236     2.57   0.010     .0844601    .6294394\n",
      "   Asian#no  |  -.1196497     .12323    -0.97   0.332    -.3617059    .1224065\n",
      "Hawaiian/.. #|\n",
      "        yes  |          0  (empty)\n",
      "Hawaiian/.. #|\n",
      "         no  |  -.1602033   .3363119    -0.48   0.634    -.8208084    .5004018\n",
      "2 or more.. #|\n",
      "        yes  |   .1230398   .0733269     1.68   0.094    -.0209936    .2670732\n",
      "2 or more.. #|\n",
      "         no  |   .0627884   .0598991     1.05   0.295    -.0548691     .180446\n",
      "             |\n",
      "       _cons |   .2474481   .1740722     1.42   0.156    -.0944755    .5893717\n",
      "------------------------------------------------------------------------------\n",
      "(est1 stored)\n"
     ]
    }
   ],
   "source": [
    "eststo: reg mistreat i.child_age i.child_race#i.adhd_meds"
   ]
  },
  {
   "cell_type": "code",
   "execution_count": 29,
   "metadata": {
    "tags": []
   },
   "outputs": [
    {
     "name": "stdout",
     "output_type": "stream",
     "text": [
      "\n",
      "      Source |       SS           df       MS      Number of obs   =       566\n",
      "-------------+----------------------------------   F(8, 557)       =      3.14\n",
      "       Model |  2.83620325         8  .354525406   Prob > F        =    0.0018\n",
      "    Residual |  62.9588498       557  .113032046   R-squared       =    0.0431\n",
      "-------------+----------------------------------   Adj R-squared   =    0.0294\n",
      "       Total |   65.795053       565  .116451421   Root MSE        =     .3362\n",
      "\n",
      "------------------------------------------------------------------------------\n",
      "    mistreat | Coefficient  Std. err.      t    P>|t|     [95% conf. interval]\n",
      "-------------+----------------------------------------------------------------\n",
      "   child_age |\n",
      "early sch..  |  -.1547074   .1722449    -0.90   0.369    -.4930364    .1836217\n",
      "older sch..  |  -.0477919   .1717314    -0.28   0.781    -.3851123    .2895285\n",
      "             |\n",
      "  child_race |\n",
      "   Black/AA  |   .1120281   .0578632     1.94   0.053    -.0016287    .2256849\n",
      "A. Indian..  |  -.0923901   .1282059    -0.72   0.471    -.3442163    .1594362\n",
      "      Asian  |   .1108451    .092114     1.20   0.229    -.0700881    .2917783\n",
      "Hawaiian/..  |  -.1185372   .3371067    -0.35   0.725    -.7806929    .5436186\n",
      "2 or more..  |   .1118105    .046468     2.41   0.016     .0205365    .2030845\n",
      "             |\n",
      "   adhd_meds |\n",
      "         no  |  -.0459055   .0291275    -1.58   0.116    -.1031187    .0113076\n",
      "       _cons |   .2122346   .1733399     1.22   0.221    -.1282452    .5527144\n",
      "------------------------------------------------------------------------------\n",
      "(est2 stored)\n"
     ]
    }
   ],
   "source": [
    "eststo: reg mistreat i.child_age i.child_race i.adhd_meds"
   ]
  },
  {
   "cell_type": "code",
   "execution_count": 30,
   "metadata": {
    "tags": []
   },
   "outputs": [
    {
     "name": "stdout",
     "output_type": "stream",
     "text": [
      "\n",
      "--------------------------------------------\n",
      "                      (1)             (2)   \n",
      "                  Model 1         Model 2   \n",
      "                     b/se            b/se   \n",
      "--------------------------------------------\n",
      "2.child_age        -0.190          -0.155   \n",
      "                  (0.174)         (0.172)   \n",
      "3.child_age        -0.087          -0.048   \n",
      "                  (0.173)         (0.172)   \n",
      "2.child_ra~s        0.106                   \n",
      "                  (0.085)                   \n",
      "3.child_ra~s       -0.109                   \n",
      "                  (0.170)                   \n",
      "4.child_ra~s       -0.120                   \n",
      "                  (0.123)                   \n",
      "5.child_ra~s       -0.160                   \n",
      "                  (0.336)                   \n",
      "7.child_ra~s        0.063                   \n",
      "                  (0.060)                   \n",
      "2.child_race                        0.112   \n",
      "                                  (0.058)   \n",
      "3.child_race                       -0.092   \n",
      "                                  (0.128)   \n",
      "4.child_race                        0.111   \n",
      "                                  (0.092)   \n",
      "5.child_race                       -0.119   \n",
      "                                  (0.337)   \n",
      "7.child_race                        0.112*  \n",
      "                                  (0.046)   \n",
      "2.adhd_meds                        -0.046   \n",
      "                                  (0.029)   \n",
      "_cons               0.247           0.212   \n",
      "                  (0.174)         (0.173)   \n",
      "--------------------------------------------\n",
      "R-Squared           0.054           0.043   \n",
      "N                 566.000         566.000   \n",
      "--------------------------------------------\n"
     ]
    }
   ],
   "source": [
    "esttab, stats(r2 N, labels(\"R-Squared\" \"N\")) cells(b(star fmt(3)) se(fmt(3) par)) /// \n",
    "nobase mlabels (\"Model 1\" \"Model 2\") starlevels(* .05 ** .01 *** .001) ///\n",
    "coeflabels (mistreat \"Mistreatment\" child_age \"Child Age\" adhd_meds \"Takes Meds\" (child_race 1.\"White\" ///\n",
    "2.\"Black/AA\" 3.\"A. Indian/Alaska Nat.\" 4.\"Asian\" 5.\"Hawaiian/Pac. Islander\" 7.\"2 or more races\"))"
   ]
  },
  {
   "cell_type": "code",
   "execution_count": 129,
   "metadata": {
    "tags": []
   },
   "outputs": [
    {
     "name": "stdout",
     "output_type": "stream",
     "text": [
      "\n",
      "Mistreatmen |\n",
      "   t due to |\n",
      "  Diagnosis |      Freq.     Percent        Cum.\n",
      "------------+-----------------------------------\n",
      "          0 |     50,307       96.85       96.85\n",
      "          1 |      1,638        3.15      100.00\n",
      "------------+-----------------------------------\n",
      "      Total |     51,945      100.00\n"
     ]
    }
   ],
   "source": [
    "tab mistreat"
   ]
  },
  {
   "cell_type": "code",
   "execution_count": 31,
   "metadata": {
    "tags": []
   },
   "outputs": [
    {
     "data": {
      "image/png": "[encoded data removed]",
      "text/plain": [
       "<IPython.core.display.Image object>"
      ]
     },
     "metadata": {},
     "output_type": "display_data"
    }
   ],
   "source": [
    "graph bar mistreat, over(child_age) over(adhd_meds) asyvars ytitle (Mistreatment due to Diagnosis) ///\n",
    "  blabel(bar, format(%7.0fc)) legend(rows(1) position(1) ring(0)) scheme(538w)"
   ]
  },
  {
   "cell_type": "code",
   "execution_count": 51,
   "metadata": {
    "tags": []
   },
   "outputs": [
    {
     "name": "stdout",
     "output_type": "stream",
     "text": [
      "\n",
      "Variables that uniquely identify margins: child_age adhd_meds\n"
     ]
    },
    {
     "data": {
      "image/png": "[encoded data removed]",
      "text/plain": [
       "<IPython.core.display.Image object>"
      ]
     },
     "metadata": {},
     "output_type": "display_data"
    }
   ],
   "source": [
    "quietly reg mistreat i.child_age i.child_age##i.adhd_meds\n",
    "quietly margins i.child_age, over(adhd_meds) atmeans\n",
    "marginsplot, title(\"Margin Plot of Mistreatment on Child Age and ADHD Med Use\") ///\n",
    "xtitle(\"Child's Age\") ytitle(\"Exp. Mistreatment\") /// \n",
    "recast(scatter) scheme(538w)"
   ]
  },
  {
   "cell_type": "code",
   "execution_count": 55,
   "metadata": {
    "tags": []
   },
   "outputs": [
    {
     "data": {
      "image/png": "[encoded data removed]",
      "text/plain": [
       "<IPython.core.display.Image object>"
      ]
     },
     "metadata": {},
     "output_type": "display_data"
    }
   ],
   "source": [
    "graph bar mistreat, over(adhd_meds) over(child_age) asyvars ytitle (Mistreatment due to Diagnosis) ///\n",
    "  blabel(bar, format(%7.0fc)) legend(rows(1) position(1) ring(0)) scheme(538w)"
   ]
  },
  {
   "cell_type": "code",
   "execution_count": 54,
   "metadata": {
    "tags": []
   },
   "outputs": [
    {
     "name": "stdout",
     "output_type": "stream",
     "text": [
      "\n",
      "Variables that uniquely identify margins: adhd_meds child_age\n"
     ]
    },
    {
     "data": {
      "image/png": "[encoded data removed]",
      "text/plain": [
       "<IPython.core.display.Image object>"
      ]
     },
     "metadata": {},
     "output_type": "display_data"
    }
   ],
   "source": [
    "quietly reg mistreat i.adhd_meds i.adhd_meds##i.child_age\n",
    "quietly margins i.adhd_meds, over(child_age) atmeans\n",
    "marginsplot, title(\"Margin Plot of Mistreatment who use ADHD Meds\") ///\n",
    "xtitle(\"ADHD Meds Use\") ytitle(\"Exp. Mistreatment\") /// \n",
    "recast(scatter) scheme(538w)"
   ]
  },
  {
   "cell_type": "code",
   "execution_count": 57,
   "metadata": {
    "tags": []
   },
   "outputs": [
    {
     "name": "stdout",
     "output_type": "stream",
     "text": [
      "\n",
      "Variables that uniquely identify margins: child_age\n"
     ]
    },
    {
     "data": {
      "image/png": "[encoded data removed]",
      "text/plain": [
       "<IPython.core.display.Image object>"
      ]
     },
     "metadata": {},
     "output_type": "display_data"
    }
   ],
   "source": [
    "qui margins i.child_age, atmeans\n",
    "marginsplot, ytitle(Mistreatment)"
   ]
  },
  {
   "cell_type": "markdown",
   "metadata": {},
   "source": [
    "## 3. Interpret your results [1 pt]\n",
    "\n",
    "Write a couple sentences answering each of the following questions:"
   ]
  },
  {
   "cell_type": "markdown",
   "metadata": {},
   "source": [
    "    A. Do the results support or contradict each of your hypotheses?\n",
    "    \n",
    "    B. Why do the regression coefficients support or contradict your hypotheses?\n",
    "    \n",
    "    C. Why do your regression adjusted estimates from margins for nominal categories or given interval-ratio values support or contradict your hypotheses?"
   ]
  },
  {
   "cell_type": "markdown",
   "metadata": {},
   "source": [
    "It looks like the results support my hypotheses that as children with ADHD get older, they experience more mistreatment at school due to diagnosis. \n",
    "When grouping kids by age, I seperated them by those that are no yet in school, early school years, and older school-aged students. The regression coefficient supports this hypotheses because as a child's age increases so does their experiences of mistreatment at school due to diagnosis and their likelyhood to take ADHD medication. \n",
    "My regression adjusted estimates from the margins for nominal categories supports my hypotheses because it allows me to examine the effect that age has on mistreatment due to diagnosis. The change from one unit (group of children by age), had a unit increase in mistreatment. Though, I was not really able to see how adhd medication use affects mistreatment; I think with different graphs it may be worth looking into further. There does seem to be linearity between age and mistreatment but the data above does not support linear association between the child's age and ADHD medication use."
   ]
  }
 ],
 "metadata": {
  "kernelspec": {
   "display_name": "Stata (nbstata)",
   "language": "stata",
   "name": "nbstata"
  },
  "language_info": {
   "file_extension": ".do",
   "mimetype": "text/x-stata",
   "name": "stata",
   "version": "17"
  }
 },
 "nbformat": 4,
 "nbformat_minor": 4
}
